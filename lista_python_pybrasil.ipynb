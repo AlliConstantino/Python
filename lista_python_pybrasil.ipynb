{
  "nbformat": 4,
  "nbformat_minor": 0,
  "metadata": {
    "colab": {
      "name": "lista_python_pybrasil.ipynb",
      "provenance": [],
      "authorship_tag": "ABX9TyP3S8LBOJAfoqtlLY9rnjgd",
      "include_colab_link": true
    },
    "kernelspec": {
      "name": "python3",
      "display_name": "Python 3"
    }
  },
  "cells": [
    {
      "cell_type": "markdown",
      "metadata": {
        "id": "view-in-github",
        "colab_type": "text"
      },
      "source": [
        "<a href=\"https://colab.research.google.com/github/AlliConstantino/Python/blob/master/lista_python_pybrasil.ipynb\" target=\"_parent\"><img src=\"https://colab.research.google.com/assets/colab-badge.svg\" alt=\"Open In Colab\"/></a>"
      ]
    },
    {
      "cell_type": "code",
      "metadata": {
        "id": "NuAWd05nmlOq",
        "colab_type": "code",
        "outputId": "d3cd9776-d916-4e67-8889-045ab2d3e03d",
        "colab": {
          "base_uri": "https://localhost:8080/",
          "height": 68
        }
      },
      "source": [
        "nota = float(input(\"informe um numero de 0 a 10: \"))\n",
        "while (nota > 10) or (nota < 0):\n",
        "\tnota = float(input(\"informe um numero de 0 a 10: \"))\n",
        " "
      ],
      "execution_count": 9,
      "outputs": [
        {
          "output_type": "stream",
          "text": [
            "informe um numero de 0 a 10: 11.0\n",
            "informe um numero de 0 a 10: 20.9\n",
            "informe um numero de 0 a 10: 9.6\n"
          ],
          "name": "stdout"
        }
      ]
    },
    {
      "cell_type": "code",
      "metadata": {
        "id": "BdPQiTlqrelL",
        "colab_type": "code",
        "colab": {
          "base_uri": "https://localhost:8080/",
          "height": 153
        },
        "outputId": "37baa2ce-ab0d-4e0b-c9e5-a81f7a26f261"
      },
      "source": [
        "usr = str(input(\"digite seu usuario: \"))\n",
        "pwd = str(input(\"digite sua senha: \"))\n",
        "\n",
        "#verificando se é igual\n",
        "while usr == pwd :\n",
        "  usr = str(input(\"digite seu usuario: \"))\n",
        "  pwd = str(input(\"digite sua senha: \"))"
      ],
      "execution_count": 11,
      "outputs": [
        {
          "output_type": "stream",
          "text": [
            "digite seu usuario: abc\n",
            "digite sua senha: abc\n",
            "digite seu usuario: abc\n",
            "digite sua senha: abc\n",
            "digite seu usuario: cde\n",
            "digite sua senha: cde\n",
            "digite seu usuario: cd\n",
            "digite sua senha: sd\n"
          ],
          "name": "stdout"
        }
      ]
    },
    {
      "cell_type": "code",
      "metadata": {
        "id": "lE05sktvtpvs",
        "colab_type": "code",
        "colab": {
          "base_uri": "https://localhost:8080/",
          "height": 153
        },
        "outputId": "510abca5-5dd4-499c-9b6b-0a65230dbac6"
      },
      "source": [
        "nome = str(input(\"por favor digite o nome: \"))\n",
        "while len(nome) < 3:\n",
        "  nome = str(input(\"por favor digite o nome: \"))\n",
        "\n",
        "idade = int(input(\"por favor digite idade: \"))\n",
        "while idade > 150 or idade < 0:\n",
        "  idade = int(input(\"por favor digite idade: \"))\n",
        "\n",
        "salario = float(input(\"Digite seu salario: \"))\n",
        "while salario == 0.0:\n",
        "    salario = float(input(\"Digite seu salario: \"))\n",
        "\n",
        "sexo = str(input(\"digite seu sexo: \"))\n",
        "while sexo != 'f' and sexo != 'm' :\n",
        "     sexo = str(input(\"digite seu sexo: \"))\n",
        "\n",
        "estado_civil = str(input(\"digite seu estado civil: \"))  \n",
        "while estado_civil != 's' and estado_civil != 'c' and estado_civil != 'v' and estado_civil != 'd':\n",
        "     estado_civil = str(input(\"digite seu estado civil: \"))"
      ],
      "execution_count": 19,
      "outputs": [
        {
          "output_type": "stream",
          "text": [
            "por favor digite o nome: abcd\n",
            "por favor digite idade: 20\n",
            "Digite seu salario: 340.4\n",
            "digite seu sexo: f\n",
            "digite seu estado civil: r\n",
            "digite seu estado civil: w\n",
            "digite seu estado civil: q\n",
            "digite seu estado civil: s\n"
          ],
          "name": "stdout"
        }
      ]
    }
  ]
}